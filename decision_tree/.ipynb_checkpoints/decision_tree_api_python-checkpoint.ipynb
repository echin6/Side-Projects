{
 "cells": [
  {
   "cell_type": "code",
   "execution_count": null,
   "metadata": {
    "collapsed": true
   },
   "outputs": [],
   "source": [
    "from numpy import array\n",
    "import numpy as np\n",
    "import random\n",
    "import json\n",
    "import time"
   ]
  },
  {
   "cell_type": "code",
   "execution_count": null,
   "metadata": {
    "collapsed": true
   },
   "outputs": [],
   "source": [
    "#load dataset\n",
    "dataset = np.load('dataset.npy')"
   ]
  },
  {
   "cell_type": "code",
   "execution_count": null,
   "metadata": {
    "collapsed": true
   },
   "outputs": [],
   "source": [
    "#front-end json inputs\n",
    "inputs = {\n",
    "    \"tt_split\": \"0.5\",\n",
    "    \"calories\": True,\n",
    "    \"has_carb\": True,\n",
    "    \"has_cheese\": True,\n",
    "    \"has_marinara_sauce\": True,\n",
    "    \"has_meat\": True,\n",
    "    \"is_round\": True,\n",
    "    \"cook_method\": True,\n",
    "    \"food_origin\": True,\n",
    "}"
   ]
  },
  {
   "cell_type": "code",
   "execution_count": null,
   "metadata": {
    "collapsed": true
   },
   "outputs": [],
   "source": [
    "front_end = json.dumps(inputs)"
   ]
  },
  {
   "cell_type": "code",
   "execution_count": null,
   "metadata": {
    "collapsed": true
   },
   "outputs": [],
   "source": [
    "payload = json.loads(front_end)"
   ]
  },
  {
   "cell_type": "code",
   "execution_count": 6,
   "metadata": {
    "collapsed": true
   },
   "outputs": [],
   "source": [
    "def selection(inputs):\n",
    "    S = []\n",
    "    if inputs['calories'] == True:\n",
    "        S.append(0)\n",
    "    if inputs['has_carb'] == True:\n",
    "        S.append(1)\n",
    "    if inputs['has_cheese'] == True:\n",
    "        S.append(2)\n",
    "    if inputs['has_marinara_sauce'] == True:\n",
    "        S.append(3)\n",
    "    if inputs['has_meat'] == True:\n",
    "        S.append(4)\n",
    "    if inputs['is_round'] == True:\n",
    "        S.append(5)\n",
    "    if inputs['cook_method'] == True:\n",
    "        S = S + [6,7,8,9,10,11,12,13]\n",
    "    if inputs['food_origin'] == True:\n",
    "        S = S + [14,15,16,17,18,19]\n",
    "    return S\n",
    "\n",
    "def unselectColumn(L, L1):\n",
    "    for l in L:\n",
    "        yield [x for i, x in enumerate(l) if i not in L1]"
   ]
  },
  {
   "cell_type": "code",
   "execution_count": 7,
   "metadata": {
    "collapsed": true
   },
   "outputs": [],
   "source": [
    "F = range(20)\n",
    "S = selection(payload)\n",
    "L1 = [x for x in F if x not in S]\n",
    "subset = [e for e in unselectColumn(dataset, L1)]"
   ]
  },
  {
   "cell_type": "code",
   "execution_count": 8,
   "metadata": {
    "collapsed": true
   },
   "outputs": [],
   "source": [
    "cols = [u'calories',\n",
    " u'has_carb',\n",
    " u'has_cheese',\n",
    " u'has_marinara_sauce',\n",
    " u'has_meat',\n",
    " u'is_round',\n",
    " u'Bake in oven',\n",
    " u'Cook in a skillet',\n",
    " u'Cook in pan',\n",
    " u'Deep fried',\n",
    " u'Made by hand',\n",
    " u'Microwaved',\n",
    " u'Saute in a skillet',\n",
    " u'Wrapped by hand',\n",
    " u'America',\n",
    " u'China',\n",
    " u'Italy',\n",
    " u'Japan',\n",
    " u'Mexico',\n",
    " u'Taiwan',\n",
    " u'is_pizza']"
   ]
  },
  {
   "cell_type": "code",
   "execution_count": 9,
   "metadata": {
    "collapsed": true
   },
   "outputs": [],
   "source": [
    "mapping = {}\n",
    "for i, c in enumerate(cols):\n",
    "    mapping[i] = c"
   ]
  },
  {
   "cell_type": "code",
   "execution_count": 10,
   "metadata": {
    "collapsed": true
   },
   "outputs": [],
   "source": [
    "feat_map = {}\n",
    "for s in range(len(S)):\n",
    "    feat_map['X'+str(s+1)] = mapping[S[s]]"
   ]
  },
  {
   "cell_type": "code",
   "execution_count": 11,
   "metadata": {
    "collapsed": true
   },
   "outputs": [],
   "source": [
    "# Calculate accuracy percentage\n",
    "def accuracy_metric(actual, predicted):\n",
    "    correct = 0\n",
    "    for i in range(len(actual)):\n",
    "        if actual[i] == predicted[i]:\n",
    "            correct += 1\n",
    "    return correct / float(len(actual)) * 100.0\n",
    "\n",
    "def train_test_split(tt_split, dataset):\n",
    "    ds = len(dataset)\n",
    "    train_set = dataset[:int(ds*tt_split)]\n",
    "    test_set = dataset[int(ds*tt_split):]\n",
    "    return train_set, test_set\n",
    "\n",
    "# Evaluate an algorithm using a cross validation split\n",
    "def evaluate_algorithm(algorithm, train_set, test_set, *args):\n",
    "    predicted = algorithm(train_set, test_set, *args)\n",
    "    actual = [row[-1] for row in test_set]\n",
    "    accuracy = accuracy_metric(actual, predicted)\n",
    "    return accuracy\n",
    " \n",
    "# Split a dataset based on an attribute and an attribute value\n",
    "def test_split(index, value, dataset):\n",
    "    left, right = list(), list()\n",
    "    for row in dataset:\n",
    "        if row[index] < value:\n",
    "            left.append(row)\n",
    "        else:\n",
    "            right.append(row)\n",
    "    return left, right\n",
    " \n",
    "# Calculate the Gini index for a split dataset\n",
    "def gini_index(groups, class_values):\n",
    "    gini = 0.0\n",
    "    for class_value in class_values:\n",
    "        for group in groups:\n",
    "            size = len(group)\n",
    "            if size == 0:\n",
    "                continue\n",
    "            proportion = [row[-1] for row in group].count(class_value) / float(size)\n",
    "            gini += (proportion * (1.0 - proportion))\n",
    "    return gini\n",
    " \n",
    "# Select the best split point for a dataset\n",
    "def get_split(dataset):\n",
    "    class_values = list(set(row[-1] for row in dataset))\n",
    "    b_index, b_value, b_score, b_groups = 999, 999, 999, None\n",
    "    for index in range(len(dataset[0])-1):\n",
    "        for row in dataset:\n",
    "            groups = test_split(index, row[index], dataset)\n",
    "            gini = gini_index(groups, class_values)\n",
    "            if gini < b_score:\n",
    "                b_index, b_value, b_score, b_groups = index, row[index], gini, groups\n",
    "    return {'index':b_index, 'value':b_value, 'groups':b_groups}\n",
    " \n",
    "# Create a terminal node value\n",
    "def to_terminal(group):\n",
    "    outcomes = [row[-1] for row in group]\n",
    "    return max(set(outcomes), key=outcomes.count)\n",
    " \n",
    "# Create child splits for a node or make terminal\n",
    "def split(node, max_depth, min_size, depth):\n",
    "    left, right = node['groups']\n",
    "    del(node['groups'])\n",
    "    # check for a no split\n",
    "    if not left or not right:\n",
    "        node['left'] = node['right'] = to_terminal(left + right)\n",
    "        return\n",
    "    # check for max depth\n",
    "    if depth >= max_depth:\n",
    "        node['left'], node['right'] = to_terminal(left), to_terminal(right)\n",
    "        return\n",
    "    # process left child\n",
    "    if len(left) <= min_size:\n",
    "        node['left'] = to_terminal(left)\n",
    "    else:\n",
    "        node['left'] = get_split(left)\n",
    "        split(node['left'], max_depth, min_size, depth+1)\n",
    "    # process right child\n",
    "    if len(right) <= min_size:\n",
    "        node['right'] = to_terminal(right)\n",
    "    else:\n",
    "        node['right'] = get_split(right)\n",
    "        split(node['right'], max_depth, min_size, depth+1)\n",
    " \n",
    "# Build a decision tree\n",
    "def build_tree(train, max_depth, min_size):\n",
    "    root = get_split(train)\n",
    "    split(root, max_depth, min_size, 1)\n",
    "    return root\n",
    " \n",
    "# Make a prediction with a decision tree\n",
    "def predict(node, row):\n",
    "    if row[node['index']] < node['value']:\n",
    "        if isinstance(node['left'], dict):\n",
    "            return predict(node['left'], row)\n",
    "        else:\n",
    "            return node['left']\n",
    "    else:\n",
    "        if isinstance(node['right'], dict):\n",
    "            return predict(node['right'], row)\n",
    "        else:\n",
    "            return node['right']\n",
    " \n",
    "# Classification and Regression Tree Algorithm\n",
    "def decision_tree(train, test, max_depth, min_size):\n",
    "    tree = build_tree(train, max_depth, min_size)\n",
    "    predictions = list()\n",
    "    for row in test:\n",
    "        prediction = predict(tree, row)\n",
    "        predictions.append(prediction)\n",
    "    return(predictions)\n",
    "\n",
    "def print_tree(node, depth=0):\n",
    "    if isinstance(node, dict):\n",
    "        print('%s[%s < %.3f]' % ((depth*'   ', feat_map['X'+str((node['index']+1))], node['value'])))\n",
    "        print_tree(node['left'], depth+1)\n",
    "        print_tree(node['right'], depth+1)\n",
    "    else:\n",
    "        print('%s[%s]' % ((depth*'   '+' ', node)))\n",
    "\n",
    "def check_key(td, n):\n",
    "    if n not in td:\n",
    "        return n\n",
    "    else:\n",
    "        return check_key(td, n+1)\n",
    "\n",
    "def save_tree(node, td, n, feat_map, depth=0):\n",
    "    if isinstance(node, dict):\n",
    "        n = check_key(td, n)\n",
    "        td[n] = '%s[%s < %s]' % ((depth*'---', feat_map['X'+str((node['index']+1))], node['value']))\n",
    "        save_tree(node['left'], td, n, feat_map, depth+1)\n",
    "        save_tree(node['right'], td, n, feat_map, depth+1)\n",
    "    else:\n",
    "        n = check_key(td, n)\n",
    "        td[n] = '%s[%s]' % ((depth*'---', node))\n",
    "    return td\n",
    "\n",
    "def get_tree(train_set, test_set, feat_map, max_depth, min_size):\n",
    "    td = {}\n",
    "    n=0\n",
    "    tree = build_tree(train_set, max_depth, min_size)\n",
    "    outputs = save_tree(tree, td, n, feat_map)    \n",
    "    return outputs\n",
    "\n",
    "def train(split, dataset, feat_map):\n",
    "    tt_split = split\n",
    "    max_depth = 3\n",
    "    min_size = 2\n",
    "    td = {}\n",
    "    n=0\n",
    "    train_set, test_set = train_test_split(split, dataset)\n",
    "    train_scores = evaluate_algorithm(dataset, decision_tree, train_set, train_set, max_depth, min_size)\n",
    "    test_scores = evaluate_algorithm(dataset, decision_tree, train_set, test_set, max_depth, min_size)\n",
    "    tree = build_tree(train_set, max_depth, min_size)\n",
    "    outputs = save_tree(tree, td, n, feat_map)    \n",
    "    return str(train_scores), str(test_scores), outputs"
   ]
  },
  {
   "cell_type": "code",
   "execution_count": 12,
   "metadata": {
    "collapsed": true
   },
   "outputs": [],
   "source": [
    "tt_split = float(payload['tt_split'])\n",
    "max_depth = 3\n",
    "min_size = 2"
   ]
  },
  {
   "cell_type": "code",
   "execution_count": 13,
   "metadata": {
    "collapsed": true
   },
   "outputs": [],
   "source": [
    "train_set, test_set = train_test_split(tt_split, subset)"
   ]
  },
  {
   "cell_type": "code",
   "execution_count": 14,
   "metadata": {},
   "outputs": [
    {
     "data": {
      "text/plain": [
       "{0: u'[has_meat < 1]',\n",
       " 1: u'---[calories < 2998]',\n",
       " 2: u'------[calories < 2967]',\n",
       " 3: '---------[1]',\n",
       " 4: '---------[1]',\n",
       " 5: u'------[calories < 2998]',\n",
       " 6: '---------[1]',\n",
       " 7: '---------[1]',\n",
       " 8: u'---[is_round < 1]',\n",
       " 9: u'------[calories < 101]',\n",
       " 10: '---------[0]',\n",
       " 11: '---------[0]',\n",
       " 12: u'------[calories < 3170]',\n",
       " 13: '---------[1]',\n",
       " 14: '---------[1]'}"
      ]
     },
     "execution_count": 14,
     "metadata": {},
     "output_type": "execute_result"
    }
   ],
   "source": [
    "outputs = get_tree(train_set, test_set, feat_map, max_depth, min_size)\n",
    "outputs"
   ]
  },
  {
   "cell_type": "code",
   "execution_count": 15,
   "metadata": {},
   "outputs": [
    {
     "data": {
      "text/plain": [
       "90.8"
      ]
     },
     "execution_count": 15,
     "metadata": {},
     "output_type": "execute_result"
    }
   ],
   "source": [
    "train_scores = evaluate_algorithm(decision_tree, train_set, train_set, max_depth, min_size)\n",
    "train_scores"
   ]
  },
  {
   "cell_type": "code",
   "execution_count": 16,
   "metadata": {},
   "outputs": [
    {
     "data": {
      "text/plain": [
       "96.39999999999999"
      ]
     },
     "execution_count": 16,
     "metadata": {},
     "output_type": "execute_result"
    }
   ],
   "source": [
    "test_scores = evaluate_algorithm(decision_tree, train_set, test_set, max_depth, min_size)\n",
    "test_scores"
   ]
  }
 ],
 "metadata": {
  "anaconda-cloud": {},
  "kernelspec": {
   "display_name": "Python [conda root]",
   "language": "python",
   "name": "conda-root-py"
  },
  "language_info": {
   "codemirror_mode": {
    "name": "ipython",
    "version": 2
   },
   "file_extension": ".py",
   "mimetype": "text/x-python",
   "name": "python",
   "nbconvert_exporter": "python",
   "pygments_lexer": "ipython2",
   "version": "2.7.9"
  }
 },
 "nbformat": 4,
 "nbformat_minor": 1
}
